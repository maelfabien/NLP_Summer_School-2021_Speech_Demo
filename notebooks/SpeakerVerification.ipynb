{
 "cells": [
  {
   "cell_type": "code",
   "execution_count": 1,
   "metadata": {},
   "outputs": [
    {
     "name": "stderr",
     "output_type": "stream",
     "text": [
      "################################################################################\n",
      "### WARNING, path does not exist: KALDI_ROOT=/mnt/matylda5/iveselyk/Tools/kaldi-trunk\n",
      "###          (please add 'export KALDI_ROOT=<your_path>' in your $HOME/.profile)\n",
      "###          (or run as: KALDI_ROOT=<your_path> python <your_script>.py)\n",
      "################################################################################\n",
      "\n"
     ]
    }
   ],
   "source": [
    "from speaker_verification import load_sv_model, get_embedding, run_sv"
   ]
  },
  {
   "cell_type": "code",
   "execution_count": 2,
   "metadata": {},
   "outputs": [
    {
     "name": "stderr",
     "output_type": "stream",
     "text": [
      "2021-05-15 13:01:42.599 INFO    speechbrain.pretrained.fetching: Fetch hyperparams.yaml: Using existing file/symlink in pretrained_models/spkrec-ecapa-voxceleb/hyperparams.yaml.\n",
      "2021-05-15 13:01:42.753 INFO    speechbrain.pretrained.fetching: Fetch embedding_model.ckpt: Using existing file/symlink in pretrained_models/spkrec-ecapa-voxceleb/embedding_model.ckpt.\n",
      "2021-05-15 13:01:42.754 INFO    speechbrain.pretrained.fetching: Fetch mean_var_norm_emb.ckpt: Using existing file/symlink in pretrained_models/spkrec-ecapa-voxceleb/mean_var_norm_emb.ckpt.\n",
      "2021-05-15 13:01:42.755 INFO    speechbrain.pretrained.fetching: Fetch classifier.ckpt: Using existing file/symlink in pretrained_models/spkrec-ecapa-voxceleb/classifier.ckpt.\n",
      "2021-05-15 13:01:42.756 INFO    speechbrain.pretrained.fetching: Fetch label_encoder.txt: Using existing file/symlink in pretrained_models/spkrec-ecapa-voxceleb/label_encoder.ckpt.\n",
      "2021-05-15 13:01:42.756 INFO    speechbrain.utils.parameter_transfer: Loading pretrained files for: embedding_model, mean_var_norm_emb, classifier, label_encoder\n"
     ]
    },
    {
     "ename": "RuntimeError",
     "evalue": "Don't know how to load <class 'speechbrain.dataio.encoder.CategoricalEncoder'>. Register default hook                     or add custom hook for this object.",
     "output_type": "error",
     "traceback": [
      "\u001b[0;31m---------------------------------------------------------------------------\u001b[0m",
      "\u001b[0;31mRuntimeError\u001b[0m                              Traceback (most recent call last)",
      "\u001b[0;32m<ipython-input-2-8f1df677cb84>\u001b[0m in \u001b[0;36m<module>\u001b[0;34m\u001b[0m\n\u001b[0;32m----> 1\u001b[0;31m \u001b[0mverif_model\u001b[0m \u001b[0;34m=\u001b[0m \u001b[0mload_sv_model\u001b[0m\u001b[0;34m(\u001b[0m\u001b[0;34m)\u001b[0m\u001b[0;34m\u001b[0m\u001b[0;34m\u001b[0m\u001b[0m\n\u001b[0m",
      "\u001b[0;32m~/MexicanNLP/speaker_verification.py\u001b[0m in \u001b[0;36mload_sv_model\u001b[0;34m()\u001b[0m\n\u001b[1;32m      8\u001b[0m     \u001b[0mLoads\u001b[0m \u001b[0mpre\u001b[0m\u001b[0;34m-\u001b[0m\u001b[0mtrained\u001b[0m \u001b[0mspeaker\u001b[0m \u001b[0mverification\u001b[0m \u001b[0mmodel\u001b[0m \u001b[0;32mfrom\u001b[0m \u001b[0mspeechbrain\u001b[0m\u001b[0;34m\u001b[0m\u001b[0;34m\u001b[0m\u001b[0m\n\u001b[1;32m      9\u001b[0m     \"\"\"\n\u001b[0;32m---> 10\u001b[0;31m     \u001b[0mverif_model\u001b[0m \u001b[0;34m=\u001b[0m \u001b[0mSpeakerRecognition\u001b[0m\u001b[0;34m.\u001b[0m\u001b[0mfrom_hparams\u001b[0m\u001b[0;34m(\u001b[0m\u001b[0msource\u001b[0m\u001b[0;34m=\u001b[0m\u001b[0;34m\"speechbrain/spkrec-ecapa-voxceleb\"\u001b[0m\u001b[0;34m,\u001b[0m \u001b[0msavedir\u001b[0m\u001b[0;34m=\u001b[0m\u001b[0;34m\"pretrained_models/spkrec-ecapa-voxceleb\"\u001b[0m\u001b[0;34m)\u001b[0m\u001b[0;34m\u001b[0m\u001b[0;34m\u001b[0m\u001b[0m\n\u001b[0m\u001b[1;32m     11\u001b[0m     \u001b[0;32mreturn\u001b[0m \u001b[0mverif_model\u001b[0m\u001b[0;34m\u001b[0m\u001b[0;34m\u001b[0m\u001b[0m\n\u001b[1;32m     12\u001b[0m \u001b[0;34m\u001b[0m\u001b[0m\n",
      "\u001b[0;32m~/opt/anaconda3/lib/python3.8/site-packages/speechbrain/pretrained/interfaces.py\u001b[0m in \u001b[0;36mfrom_hparams\u001b[0;34m(cls, source, hparams_file, overrides, savedir, **kwargs)\u001b[0m\n\u001b[1;32m    234\u001b[0m         \u001b[0;31m# Load on the CPU. Later the params can be moved elsewhere by specifying\u001b[0m\u001b[0;34m\u001b[0m\u001b[0;34m\u001b[0m\u001b[0;34m\u001b[0m\u001b[0m\n\u001b[1;32m    235\u001b[0m         \u001b[0;31m# run_opts={\"device\": ...}\u001b[0m\u001b[0;34m\u001b[0m\u001b[0;34m\u001b[0m\u001b[0;34m\u001b[0m\u001b[0m\n\u001b[0;32m--> 236\u001b[0;31m         \u001b[0mpretrainer\u001b[0m\u001b[0;34m.\u001b[0m\u001b[0mload_collected\u001b[0m\u001b[0;34m(\u001b[0m\u001b[0mdevice\u001b[0m\u001b[0;34m=\u001b[0m\u001b[0;34m\"cpu\"\u001b[0m\u001b[0;34m)\u001b[0m\u001b[0;34m\u001b[0m\u001b[0;34m\u001b[0m\u001b[0m\n\u001b[0m\u001b[1;32m    237\u001b[0m \u001b[0;34m\u001b[0m\u001b[0m\n\u001b[1;32m    238\u001b[0m         \u001b[0;31m# Now return the system\u001b[0m\u001b[0;34m\u001b[0m\u001b[0;34m\u001b[0m\u001b[0;34m\u001b[0m\u001b[0m\n",
      "\u001b[0;32m~/opt/anaconda3/lib/python3.8/site-packages/speechbrain/utils/parameter_transfer.py\u001b[0m in \u001b[0;36mload_collected\u001b[0;34m(self, device)\u001b[0m\n\u001b[1;32m    201\u001b[0m             \u001b[0mfilename\u001b[0m \u001b[0;34m=\u001b[0m \u001b[0mname\u001b[0m \u001b[0;34m+\u001b[0m \u001b[0mPARAMFILE_EXT\u001b[0m\u001b[0;34m\u001b[0m\u001b[0;34m\u001b[0m\u001b[0m\n\u001b[1;32m    202\u001b[0m             \u001b[0mparamfiles\u001b[0m\u001b[0;34m[\u001b[0m\u001b[0mname\u001b[0m\u001b[0;34m]\u001b[0m \u001b[0;34m=\u001b[0m \u001b[0mself\u001b[0m\u001b[0;34m.\u001b[0m\u001b[0mcollect_in\u001b[0m \u001b[0;34m/\u001b[0m \u001b[0mfilename\u001b[0m\u001b[0;34m\u001b[0m\u001b[0;34m\u001b[0m\u001b[0m\n\u001b[0;32m--> 203\u001b[0;31m         \u001b[0mself\u001b[0m\u001b[0;34m.\u001b[0m\u001b[0m_call_load_hooks\u001b[0m\u001b[0;34m(\u001b[0m\u001b[0mparamfiles\u001b[0m\u001b[0;34m,\u001b[0m \u001b[0mdevice\u001b[0m\u001b[0;34m)\u001b[0m\u001b[0;34m\u001b[0m\u001b[0;34m\u001b[0m\u001b[0m\n\u001b[0m\u001b[1;32m    204\u001b[0m \u001b[0;34m\u001b[0m\u001b[0m\n\u001b[1;32m    205\u001b[0m     \u001b[0;32mdef\u001b[0m \u001b[0m_call_load_hooks\u001b[0m\u001b[0;34m(\u001b[0m\u001b[0mself\u001b[0m\u001b[0;34m,\u001b[0m \u001b[0mparamfiles\u001b[0m\u001b[0;34m,\u001b[0m \u001b[0mdevice\u001b[0m\u001b[0;34m=\u001b[0m\u001b[0;32mNone\u001b[0m\u001b[0;34m)\u001b[0m\u001b[0;34m:\u001b[0m\u001b[0;34m\u001b[0m\u001b[0;34m\u001b[0m\u001b[0m\n",
      "\u001b[0;32m~/opt/anaconda3/lib/python3.8/site-packages/speechbrain/utils/parameter_transfer.py\u001b[0m in \u001b[0;36m_call_load_hooks\u001b[0;34m(self, paramfiles, device)\u001b[0m\n\u001b[1;32m    228\u001b[0m             \u001b[0mMSG\u001b[0m \u001b[0;34m=\u001b[0m \u001b[0mf\u001b[0m\u001b[0;31m\"\u001b[0m\u001b[0mDon\u001b[0m\u001b[0;31m'\u001b[0m\u001b[0mt\u001b[0m \u001b[0mknow\u001b[0m \u001b[0mhow\u001b[0m \u001b[0mto\u001b[0m \u001b[0mload\u001b[0m \u001b[0;34m{\u001b[0m\u001b[0mtype\u001b[0m\u001b[0;34m(\u001b[0m\u001b[0mobj\u001b[0m\u001b[0;34m)\u001b[0m\u001b[0;34m}\u001b[0m\u001b[0;34m.\u001b[0m \u001b[0mRegister\u001b[0m \u001b[0mdefault\u001b[0m \u001b[0mhook\u001b[0m\u001b[0;31m \u001b[0m\u001b[0;31m\\\u001b[0m\u001b[0;34m\u001b[0m\u001b[0;34m\u001b[0m\u001b[0m\n\u001b[1;32m    229\u001b[0m                     \u001b[0;32mor\u001b[0m \u001b[0madd\u001b[0m \u001b[0mcustom\u001b[0m \u001b[0mhook\u001b[0m \u001b[0;32mfor\u001b[0m \u001b[0mthis\u001b[0m \u001b[0mobject\u001b[0m\u001b[0;34m.\u001b[0m\u001b[0;31m\"\u001b[0m\u001b[0;34m\u001b[0m\u001b[0;34m\u001b[0m\u001b[0m\n\u001b[0;32m--> 230\u001b[0;31m             \u001b[0;32mraise\u001b[0m \u001b[0mRuntimeError\u001b[0m\u001b[0;34m(\u001b[0m\u001b[0mMSG\u001b[0m\u001b[0;34m)\u001b[0m\u001b[0;34m\u001b[0m\u001b[0;34m\u001b[0m\u001b[0m\n\u001b[0m",
      "\u001b[0;31mRuntimeError\u001b[0m: Don't know how to load <class 'speechbrain.dataio.encoder.CategoricalEncoder'>. Register default hook                     or add custom hook for this object."
     ]
    }
   ],
   "source": [
    "verif_model = load_sv_model()"
   ]
  },
  {
   "cell_type": "code",
   "execution_count": null,
   "metadata": {},
   "outputs": [],
   "source": [
    "speaker_model = get_embedding(\"/Users/maelfabien/ultralight/data/roxsdv1/calls/RE1a0ccfcab2a0908575e481871dcaa576.wav\", verif_model)\n",
    "run_sv(\"/Users/maelfabien/ultralight/data/roxsdv1/calls/RE1ea1ce42117d90fa6a2127233dd9fbae.wav\", speaker_model, verif_model, 0.85)\n",
    "\n"
   ]
  }
 ],
 "metadata": {
  "kernelspec": {
   "display_name": "Python 3",
   "language": "python",
   "name": "python3"
  },
  "language_info": {
   "codemirror_mode": {
    "name": "ipython",
    "version": 3
   },
   "file_extension": ".py",
   "mimetype": "text/x-python",
   "name": "python",
   "nbconvert_exporter": "python",
   "pygments_lexer": "ipython3",
   "version": "3.8.3"
  }
 },
 "nbformat": 4,
 "nbformat_minor": 4
}
